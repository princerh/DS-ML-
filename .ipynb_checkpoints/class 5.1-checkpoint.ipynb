{
 "cells": [
  {
   "cell_type": "markdown",
   "id": "f6b9ce97",
   "metadata": {},
   "source": [
    "### LIST input integer "
   ]
  },
  {
   "cell_type": "code",
   "execution_count": 4,
   "id": "22dd9079",
   "metadata": {},
   "outputs": [
    {
     "name": "stdout",
     "output_type": "stream",
     "text": [
      "Enter the array size: 3\n",
      "23\n",
      "45\n",
      "78\n",
      "[23, 45, 78]\n"
     ]
    }
   ],
   "source": [
    "n = int(input(\"Enter the array size: \"))\n",
    "lst =[]\n",
    "for i in range(n):\n",
    "    var = int(input())\n",
    "    lst.append(var)\n",
    "print(lst)\n",
    "    "
   ]
  },
  {
   "cell_type": "markdown",
   "id": "65afdfea",
   "metadata": {},
   "source": [
    "### map function diye input list pasha pashi"
   ]
  },
  {
   "cell_type": "code",
   "execution_count": 12,
   "id": "09437ae1",
   "metadata": {},
   "outputs": [
    {
     "name": "stdout",
     "output_type": "stream",
     "text": [
      "23 45 67 89\n"
     ]
    },
    {
     "data": {
      "text/plain": [
       "[23, 45, 67, 89]"
      ]
     },
     "execution_count": 12,
     "metadata": {},
     "output_type": "execute_result"
    }
   ],
   "source": [
    "n = list(map(int, input().strip().split()))\n",
    "n\n",
    "# strip removes the space as input\n",
    "# split separates the individual input"
   ]
  },
  {
   "cell_type": "code",
   "execution_count": 11,
   "id": "7e243db3",
   "metadata": {},
   "outputs": [
    {
     "name": "stdout",
     "output_type": "stream",
     "text": [
      "1 2 3 4\n"
     ]
    },
    {
     "data": {
      "text/plain": [
       "[1, 2, 3, 4]"
      ]
     },
     "execution_count": 11,
     "metadata": {},
     "output_type": "execute_result"
    }
   ],
   "source": [
    "def lin():\n",
    "    return list(map(int, input().strip().split()))\n",
    "lst2 = lin()\n",
    "lst2"
   ]
  },
  {
   "cell_type": "markdown",
   "id": "421d4bc0",
   "metadata": {},
   "source": [
    "### character input"
   ]
  },
  {
   "cell_type": "code",
   "execution_count": 15,
   "id": "da0fbec1",
   "metadata": {},
   "outputs": [
    {
     "name": "stdout",
     "output_type": "stream",
     "text": [
      "a b c d e f\n"
     ]
    },
    {
     "data": {
      "text/plain": [
       "['a', 'b', 'c', 'd', 'e', 'f']"
      ]
     },
     "execution_count": 15,
     "metadata": {},
     "output_type": "execute_result"
    }
   ],
   "source": [
    "def lin():\n",
    "    return input().strip().split()\n",
    "lst2 = lin()\n",
    "lst2"
   ]
  },
  {
   "cell_type": "markdown",
   "id": "c5bfe2e4",
   "metadata": {},
   "source": [
    "### comprehension\n",
    "### [output   input seq    condition]"
   ]
  },
  {
   "cell_type": "code",
   "execution_count": 17,
   "id": "39bbeb7a",
   "metadata": {},
   "outputs": [
    {
     "name": "stdout",
     "output_type": "stream",
     "text": [
      "2 4 "
     ]
    }
   ],
   "source": [
    "arr = [1,2,3,4,5]\n",
    "for i in range(len(arr)):\n",
    "    if arr[i]%2 == 0:\n",
    "        print(arr[i], end=' ')"
   ]
  },
  {
   "cell_type": "code",
   "execution_count": 20,
   "id": "e6917e29",
   "metadata": {},
   "outputs": [
    {
     "data": {
      "text/plain": [
       "[2, 4]"
      ]
     },
     "execution_count": 20,
     "metadata": {},
     "output_type": "execute_result"
    }
   ],
   "source": [
    "lst3 = [arr[i] for i in range(len(arr)) if arr[i]%2 == 0]\n",
    "lst3"
   ]
  },
  {
   "cell_type": "code",
   "execution_count": 21,
   "id": "14d951c8",
   "metadata": {},
   "outputs": [
    {
     "data": {
      "text/plain": [
       "[1, 3, 5]"
      ]
     },
     "execution_count": 21,
     "metadata": {},
     "output_type": "execute_result"
    }
   ],
   "source": [
    "lst4 = [i for i in arr if i%2 == 1]\n",
    "lst4"
   ]
  },
  {
   "cell_type": "markdown",
   "id": "cac68f9a",
   "metadata": {},
   "source": [
    "### in terms of dictionary"
   ]
  },
  {
   "cell_type": "code",
   "execution_count": 23,
   "id": "5969b69a",
   "metadata": {},
   "outputs": [
    {
     "data": {
      "text/plain": [
       "{'name': 'Prince', 'age': 24, 'Birth Year': 1998}"
      ]
     },
     "execution_count": 23,
     "metadata": {},
     "output_type": "execute_result"
    }
   ],
   "source": [
    "index = ['name', 'age', 'Birth Year']\n",
    "data = ['Prince', 24, 1998]\n",
    "dictn = {i:d for i,d in zip(index, data)} # for loop for two array\n",
    "dictn"
   ]
  },
  {
   "cell_type": "code",
   "execution_count": null,
   "id": "1f5a819d",
   "metadata": {},
   "outputs": [],
   "source": []
  }
 ],
 "metadata": {
  "kernelspec": {
   "display_name": "Python 3 (ipykernel)",
   "language": "python",
   "name": "python3"
  },
  "language_info": {
   "codemirror_mode": {
    "name": "ipython",
    "version": 3
   },
   "file_extension": ".py",
   "mimetype": "text/x-python",
   "name": "python",
   "nbconvert_exporter": "python",
   "pygments_lexer": "ipython3",
   "version": "3.9.13"
  }
 },
 "nbformat": 4,
 "nbformat_minor": 5
}
