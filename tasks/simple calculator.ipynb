{
 "cells": [
  {
   "cell_type": "code",
   "execution_count": 3,
   "id": "8974f529",
   "metadata": {},
   "outputs": [
    {
     "name": "stdout",
     "output_type": "stream",
     "text": [
      "Addition = 1\n",
      "Subtraction = 2\n",
      "Multiplication = 3\n",
      "Dividation = 4\n",
      "Select the operation 1/2/3/4: 3\n",
      "Enter the first number: 2\n",
      "Enter the second number: 3\n",
      "2 * 3 = 6\n"
     ]
    }
   ],
   "source": [
    "def addition(x, y):\n",
    "    return x + y\n",
    "def subtraction(x, y):\n",
    "    return x - y\n",
    "def multiplication(x, y):\n",
    "    return x*y\n",
    "def dividation(x, y):\n",
    "    return x/y\n",
    "\n",
    "print(\"Addition = 1\")\n",
    "print(\"Subtraction = 2\")\n",
    "print(\"Multiplication = 3\")\n",
    "print(\"Dividation = 4\")\n",
    "select = int(input(\"Select the operation 1/2/3/4: \"))\n",
    "x = int(input(\"Enter the first number: \"))\n",
    "y = int(input(\"Enter the second number: \"))\n",
    "if select==1:\n",
    "    print(x , \"+\", y , '=', addition(x,y))\n",
    "elif select ==2:\n",
    "     print(x , \"-\", y , '=', subtraction(x, y))\n",
    "elif select ==3:\n",
    "     print(x , \"*\", y , '=', multiplication(x, y))\n",
    "else:\n",
    "    print(x , \"/\", y , '=', dividation(x, y))\n"
   ]
  },
  {
   "cell_type": "code",
   "execution_count": null,
   "id": "cdac50d1",
   "metadata": {},
   "outputs": [],
   "source": []
  }
 ],
 "metadata": {
  "kernelspec": {
   "display_name": "Python 3 (ipykernel)",
   "language": "python",
   "name": "python3"
  },
  "language_info": {
   "codemirror_mode": {
    "name": "ipython",
    "version": 3
   },
   "file_extension": ".py",
   "mimetype": "text/x-python",
   "name": "python",
   "nbconvert_exporter": "python",
   "pygments_lexer": "ipython3",
   "version": "3.9.13"
  }
 },
 "nbformat": 4,
 "nbformat_minor": 5
}
