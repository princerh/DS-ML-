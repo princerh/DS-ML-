{
 "cells": [
  {
   "cell_type": "code",
   "execution_count": 1,
   "id": "701b0782",
   "metadata": {},
   "outputs": [
    {
     "name": "stdout",
     "output_type": "stream",
     "text": [
      "Provide the circle radius: 34.34\n",
      "Area:  3702.8 sq. meter\n"
     ]
    }
   ],
   "source": [
    "def circleArea(r):\n",
    "    return PI*(r**2)\n",
    "\n",
    "PI = 3.14\n",
    "r = float(input(\"Provide the circle radius: \"))\n",
    "area = circleArea(r)\n",
    "area = round(area, 2)\n",
    "print(\"Area: \",area, \"sq. meter\")"
   ]
  },
  {
   "cell_type": "code",
   "execution_count": null,
   "id": "028291aa",
   "metadata": {},
   "outputs": [],
   "source": []
  },
  {
   "cell_type": "code",
   "execution_count": null,
   "id": "3f62aea6",
   "metadata": {},
   "outputs": [],
   "source": []
  }
 ],
 "metadata": {
  "kernelspec": {
   "display_name": "Python 3 (ipykernel)",
   "language": "python",
   "name": "python3"
  },
  "language_info": {
   "codemirror_mode": {
    "name": "ipython",
    "version": 3
   },
   "file_extension": ".py",
   "mimetype": "text/x-python",
   "name": "python",
   "nbconvert_exporter": "python",
   "pygments_lexer": "ipython3",
   "version": "3.9.13"
  }
 },
 "nbformat": 4,
 "nbformat_minor": 5
}
