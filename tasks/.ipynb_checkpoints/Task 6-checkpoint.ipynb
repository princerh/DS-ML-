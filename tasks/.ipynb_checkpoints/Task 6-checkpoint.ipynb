{
 "cells": [
  {
   "cell_type": "markdown",
   "id": "c105f95e",
   "metadata": {},
   "source": [
    "### Map function "
   ]
  },
  {
   "cell_type": "code",
   "execution_count": 27,
   "id": "47eff0a6",
   "metadata": {},
   "outputs": [
    {
     "data": {
      "text/plain": [
       "['ux1P5', 'rt0P', 'ft3P', 'z1aP']"
      ]
     },
     "execution_count": 27,
     "metadata": {},
     "output_type": "execute_result"
    }
   ],
   "source": [
    "strn =[\"ux1P5\", \"rt0\", \"ft3\", \"z1aP\"]\n",
    "s = 'P'\n",
    "def user(i):\n",
    "    if ('P' in i):\n",
    "        return i\n",
    "    else:\n",
    "        return i + s\n",
    "output = map(user , strn)\n",
    "list(output)"
   ]
  },
  {
   "cell_type": "markdown",
   "id": "f0823e1a",
   "metadata": {},
   "source": [
    "### Filter function "
   ]
  },
  {
   "cell_type": "code",
   "execution_count": 33,
   "id": "ed0480cb",
   "metadata": {},
   "outputs": [
    {
     "data": {
      "text/plain": [
       "['ux1P5', 'z1aP']"
      ]
     },
     "execution_count": 33,
     "metadata": {},
     "output_type": "execute_result"
    }
   ],
   "source": [
    "strn =[\"ux1P5\", \"rt0\", \"ft3\", \"z1aP\"]\n",
    "s = 'P'\n",
    "def user(i):\n",
    "    if ('P' in i):\n",
    "        return True\n",
    "    else:\n",
    "        return False\n",
    "output = filter(user, strn)\n",
    "list(output)\n"
   ]
  },
  {
   "cell_type": "markdown",
   "id": "1c0eced0",
   "metadata": {},
   "source": [
    "### Reduce function to add"
   ]
  },
  {
   "cell_type": "code",
   "execution_count": 32,
   "id": "9921e75a",
   "metadata": {},
   "outputs": [
    {
     "data": {
      "text/plain": [
       "10"
      ]
     },
     "execution_count": 32,
     "metadata": {},
     "output_type": "execute_result"
    }
   ],
   "source": [
    "from functools import reduce\n",
    "integers = [1,2,3,4]\n",
    "sumation = reduce(lambda n,m: n+m, integers)\n",
    "sumation"
   ]
  },
  {
   "cell_type": "markdown",
   "id": "d7f2dcde",
   "metadata": {},
   "source": [
    "### filter"
   ]
  },
  {
   "cell_type": "code",
   "execution_count": 9,
   "id": "6298a049",
   "metadata": {},
   "outputs": [
    {
     "name": "stdout",
     "output_type": "stream",
     "text": [
      "['ux1P5', 'z1aP']\n"
     ]
    }
   ],
   "source": [
    "inp =[\"ux1P5\", \"rt0\", \"ft3\", \"z1aP\"]\n",
    "outp = filter(lambda a: 'P' in a, inp )\n",
    "output = list(outp)\n",
    "print(output)"
   ]
  },
  {
   "cell_type": "markdown",
   "id": "95f92e7f",
   "metadata": {},
   "source": [
    "### map function"
   ]
  },
  {
   "cell_type": "code",
   "execution_count": 11,
   "id": "32b29fc0",
   "metadata": {},
   "outputs": [
    {
     "name": "stdout",
     "output_type": "stream",
     "text": [
      "['ux1P5', 'rt0P', 'ft3P', 'z1aP']\n"
     ]
    }
   ],
   "source": [
    "output_map = map(lambda x:x + 'P' if 'P' not in x else x, inp)\n",
    "final_output = list(output_map)\n",
    "print(final_output)"
   ]
  },
  {
   "cell_type": "markdown",
   "id": "79d9f417",
   "metadata": {},
   "source": [
    "### reduce function "
   ]
  },
  {
   "cell_type": "code",
   "execution_count": 13,
   "id": "5f3d3564",
   "metadata": {},
   "outputs": [
    {
     "name": "stdout",
     "output_type": "stream",
     "text": [
      "36\n"
     ]
    }
   ],
   "source": [
    "from functools import reduce\n",
    "inputt= [1, 2,3,4,5,6,7,8]\n",
    "reduced_output= reduce(lambda x, y: x + y, inputt)\n",
    "print(reduced_output) "
   ]
  },
  {
   "cell_type": "code",
   "execution_count": null,
   "id": "4a1f4cab",
   "metadata": {},
   "outputs": [],
   "source": []
  }
 ],
 "metadata": {
  "kernelspec": {
   "display_name": "Python 3 (ipykernel)",
   "language": "python",
   "name": "python3"
  },
  "language_info": {
   "codemirror_mode": {
    "name": "ipython",
    "version": 3
   },
   "file_extension": ".py",
   "mimetype": "text/x-python",
   "name": "python",
   "nbconvert_exporter": "python",
   "pygments_lexer": "ipython3",
   "version": "3.9.13"
  }
 },
 "nbformat": 4,
 "nbformat_minor": 5
}
