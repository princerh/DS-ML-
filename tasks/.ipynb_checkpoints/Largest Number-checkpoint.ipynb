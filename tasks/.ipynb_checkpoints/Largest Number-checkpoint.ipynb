{
 "cells": [
  {
   "cell_type": "code",
   "execution_count": 27,
   "id": "b5d73197",
   "metadata": {},
   "outputs": [
    {
     "name": "stdout",
     "output_type": "stream",
     "text": [
      "Enter three numbers: \n",
      "23\n",
      "3\n",
      "4\n",
      "Largest number is:  4\n"
     ]
    }
   ],
   "source": [
    "def findLargest(a, b, c):\n",
    "    if(a>b):\n",
    "        if(a>c):\n",
    "            return a\n",
    "        else:\n",
    "            return c\n",
    "    else:\n",
    "        if(b>c):\n",
    "            return b\n",
    "        else:\n",
    "            return c\n",
    "print(\"Enter three numbers: \")\n",
    "a = input()\n",
    "b = input()\n",
    "c = input()\n",
    "value = findLargest(a,b,c)\n",
    "print(\"Largest number is: \", value)"
   ]
  },
  {
   "cell_type": "code",
   "execution_count": 26,
   "id": "cb6a972b",
   "metadata": {},
   "outputs": [
    {
     "ename": "SyntaxError",
     "evalue": "invalid syntax (473536216.py, line 1)",
     "output_type": "error",
     "traceback": [
      "\u001b[1;36m  File \u001b[1;32m\"C:\\Users\\User\\AppData\\Local\\Temp\\ipykernel_7896\\473536216.py\"\u001b[1;36m, line \u001b[1;32m1\u001b[0m\n\u001b[1;33m    `\u001b[0m\n\u001b[1;37m    ^\u001b[0m\n\u001b[1;31mSyntaxError\u001b[0m\u001b[1;31m:\u001b[0m invalid syntax\n"
     ]
    }
   ],
   "source": [
    "`"
   ]
  },
  {
   "cell_type": "code",
   "execution_count": 3,
   "id": "640a7bd0",
   "metadata": {},
   "outputs": [
    {
     "name": "stdout",
     "output_type": "stream",
     "text": [
      "4\n",
      "3\n",
      "1\n",
      "The largest number is:  4\n"
     ]
    }
   ],
   "source": [
    "def largeNumber(x, y , z):\n",
    "    if (x > y) and (x > z):\n",
    "        largest = x\n",
    "    elif (y > x) and (y > z):\n",
    "        largest = y\n",
    "    else:\n",
    "        largest = z\n",
    "    return largest\n",
    "x = int(input())\n",
    "y = int(input())\n",
    "z = int(input()) \n",
    "\n",
    "print(\"The largest number is: \", largeNumber(x, y, z))"
   ]
  },
  {
   "cell_type": "code",
   "execution_count": 4,
   "id": "5fa3f742",
   "metadata": {},
   "outputs": [
    {
     "name": "stdout",
     "output_type": "stream",
     "text": [
      "34\n",
      "23\n",
      "12\n",
      "The largest number is:  34\n"
     ]
    }
   ],
   "source": [
    "def maximum(j , k, l):\n",
    "    list = [j, k, l]\n",
    "    return max(list)\n",
    "j = int(input())\n",
    "k = int(input())\n",
    "l = int(input())\n",
    "maxm = maximum(j, k, l)\n",
    "print(\"The largest number is: \", maxm)\n"
   ]
  },
  {
   "cell_type": "code",
   "execution_count": null,
   "id": "c29c523c",
   "metadata": {},
   "outputs": [],
   "source": []
  }
 ],
 "metadata": {
  "kernelspec": {
   "display_name": "Python 3 (ipykernel)",
   "language": "python",
   "name": "python3"
  },
  "language_info": {
   "codemirror_mode": {
    "name": "ipython",
    "version": 3
   },
   "file_extension": ".py",
   "mimetype": "text/x-python",
   "name": "python",
   "nbconvert_exporter": "python",
   "pygments_lexer": "ipython3",
   "version": "3.9.13"
  }
 },
 "nbformat": 4,
 "nbformat_minor": 5
}
