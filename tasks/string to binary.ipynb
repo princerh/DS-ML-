{
 "cells": [
  {
   "cell_type": "code",
   "execution_count": 5,
   "id": "ebf49ddc",
   "metadata": {},
   "outputs": [
    {
     "name": "stdout",
     "output_type": "stream",
     "text": [
      "Enter a string: peal\n",
      "0110"
     ]
    }
   ],
   "source": [
    "text = input(\"Enter a string: \")\n",
    "binary = [ ]\n",
    "for x in text:\n",
    "    if (x == 'a' or x =='e' or x == 'i' or x == 'o' or x == 'u'):\n",
    "        binary.append(1)\n",
    "    else:\n",
    "        binary.append(0)\n",
    "\n",
    "for i in binary:\n",
    "    print(i, end=\"\")\n",
    "        "
   ]
  },
  {
   "cell_type": "code",
   "execution_count": null,
   "id": "9ab2f78a",
   "metadata": {},
   "outputs": [],
   "source": []
  }
 ],
 "metadata": {
  "kernelspec": {
   "display_name": "Python 3 (ipykernel)",
   "language": "python",
   "name": "python3"
  },
  "language_info": {
   "codemirror_mode": {
    "name": "ipython",
    "version": 3
   },
   "file_extension": ".py",
   "mimetype": "text/x-python",
   "name": "python",
   "nbconvert_exporter": "python",
   "pygments_lexer": "ipython3",
   "version": "3.9.13"
  }
 },
 "nbformat": 4,
 "nbformat_minor": 5
}
