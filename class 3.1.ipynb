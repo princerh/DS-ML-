{
 "cells": [
  {
   "cell_type": "code",
   "execution_count": 1,
   "id": "7ba9077e",
   "metadata": {},
   "outputs": [
    {
     "name": "stdout",
     "output_type": "stream",
     "text": [
      "a = 2\n",
      "b = 4\n",
      "c = 5\n"
     ]
    }
   ],
   "source": [
    "a = input(\"a = \")\n",
    "b = input(\"b = \")\n",
    "c = input(\"c = \")\n"
   ]
  },
  {
   "cell_type": "code",
   "execution_count": 6,
   "id": "5a602892",
   "metadata": {},
   "outputs": [
    {
     "name": "stdout",
     "output_type": "stream",
     "text": [
      "5 is the largest number\n"
     ]
    }
   ],
   "source": [
    "if a>b:\n",
    "    if a>c:\n",
    "        print(a + \"is the largest number\")\n",
    "    else:\n",
    "        print(c + \" is the largest number\")\n",
    "else:\n",
    "    if b>c:\n",
    "        print(b + \" is the largest number\")\n",
    "    else:\n",
    "        print(c + \" is the largest number\")"
   ]
  },
  {
   "cell_type": "code",
   "execution_count": null,
   "id": "dbd4094e",
   "metadata": {},
   "outputs": [],
   "source": [
    "n = 1\n",
    "while n<=10:\n",
    "    if n==6:\n",
    "        break\n",
    "    print(n)\n",
    "    n = n+1"
   ]
  },
  {
   "cell_type": "code",
   "execution_count": null,
   "id": "a4407fef",
   "metadata": {},
   "outputs": [],
   "source": []
  }
 ],
 "metadata": {
  "kernelspec": {
   "display_name": "Python 3 (ipykernel)",
   "language": "python",
   "name": "python3"
  },
  "language_info": {
   "codemirror_mode": {
    "name": "ipython",
    "version": 3
   },
   "file_extension": ".py",
   "mimetype": "text/x-python",
   "name": "python",
   "nbconvert_exporter": "python",
   "pygments_lexer": "ipython3",
   "version": "3.9.13"
  }
 },
 "nbformat": 4,
 "nbformat_minor": 5
}
